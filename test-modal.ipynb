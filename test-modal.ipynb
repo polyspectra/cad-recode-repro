{
 "cells": [
  {
   "cell_type": "code",
   "execution_count": 1,
   "metadata": {},
   "outputs": [
    {
     "data": {
      "text/plain": [
       "'0.73.7'"
      ]
     },
     "execution_count": 1,
     "metadata": {},
     "output_type": "execute_result"
    }
   ],
   "source": [
    "import modal\n",
    "\n",
    "assert modal.__version__ > \"0.49.0\"\n",
    "modal.__version__"
   ]
  },
  {
   "cell_type": "code",
   "execution_count": 2,
   "metadata": {},
   "outputs": [],
   "source": [
    "from modal import app\n",
    "\n",
    "app = modal.App(name=\"example-basic-notebook-app\")"
   ]
  },
  {
   "cell_type": "code",
   "execution_count": 3,
   "metadata": {},
   "outputs": [
    {
     "data": {
      "text/plain": [
       "10"
      ]
     },
     "execution_count": 3,
     "metadata": {},
     "output_type": "execute_result"
    }
   ],
   "source": [
    "def double(x: int) -> int:\n",
    "    return x + x\n",
    "\n",
    "\n",
    "double(5)"
   ]
  },
  {
   "cell_type": "code",
   "execution_count": 15,
   "metadata": {},
   "outputs": [],
   "source": [
    "image = (\n",
    "    modal.Image.debian_slim(python_version=\"3.11\")\n",
    "    .apt_install(\n",
    "        \"git\",\n",
    "        \"libgl1\",\n",
    "        \"libglu1-mesa\",\n",
    "        \"freeglut3-dev\",\n",
    "        \"libxrender1\",\n",
    "        \"gmsh\",\n",
    "        \"python3-gmsh\",\n",
    "        \"xvfb\",\n",
    "        \"curl\"\n",
    "    )\n",
    "    .pip_install(\"uv\")\n",
    "    .run_commands(\"uv pip install --system --compile-bytecode trimesh==4.5.3 jupyterlab\")\n",
    "    .run_commands(\"uv pip install --system --compile-bytecode git+https://github.com/CadQuery/cadquery.git@e99a15df3cf6a88b69101c405326305b5db8ed94\")\n",
    ")"
   ]
  },
  {
   "cell_type": "code",
   "execution_count": 9,
   "metadata": {},
   "outputs": [],
   "source": [
    "image_test = modal.Image.debian_slim(python_version=\"3.10\").pip_install(\"jupyterlab\")"
   ]
  },
  {
   "cell_type": "code",
   "execution_count": 16,
   "metadata": {},
   "outputs": [
    {
     "name": "stdout",
     "output_type": "stream",
     "text": [
      "400\n",
      "400\n"
     ]
    }
   ],
   "source": [
    "@app.function()\n",
    "def double_with_modal(x: int) -> int:\n",
    "    return x + x\n",
    "\n",
    "\n",
    "@app.function(cpu=10, image=image)\n",
    "def quadruple(x: int) -> int:\n",
    "    if x <= 1_000_000:\n",
    "        return double(x) + double(x)\n",
    "    else:\n",
    "        return double_with_modal.remote(x) + double_with_modal.remote(x)\n",
    "\n",
    "\n",
    "with app.run():\n",
    "    print(quadruple.local(100))   # running locally\n",
    "    print(quadruple.remote(100))  # run remotely"
   ]
  }
 ],
 "metadata": {
  "kernelspec": {
   "display_name": "ReCode",
   "language": "python",
   "name": "recode"
  },
  "language_info": {
   "codemirror_mode": {
    "name": "ipython",
    "version": 3
   },
   "file_extension": ".py",
   "mimetype": "text/x-python",
   "name": "python",
   "nbconvert_exporter": "python",
   "pygments_lexer": "ipython3",
   "version": "3.11.7"
  }
 },
 "nbformat": 4,
 "nbformat_minor": 2
}
