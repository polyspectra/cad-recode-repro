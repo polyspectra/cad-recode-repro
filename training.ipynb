{
 "cells": [
  {
   "cell_type": "code",
   "execution_count": null,
   "metadata": {},
   "outputs": [],
   "source": [
    "%pip install datasets huggingface-cli"
   ]
  },
  {
   "cell_type": "markdown",
   "metadata": {},
   "source": [
    "This dataset is big and not properly formatted for HF. I found it more reliable to first download the dataset with the HF CLI\n",
    "   ```bash\n",
    "   # Create datasets directory (it's gitignored)\n",
    "   mkdir datasets\n",
    "\n",
    "   # Download the dataset\n",
    "   huggingface-cli download --repo-type dataset filapro/cad-recode --local-dir datasets/cad-recode\n",
    "   ```"
   ]
  },
  {
   "cell_type": "code",
   "execution_count": 37,
   "metadata": {},
   "outputs": [
    {
     "name": "stdout",
     "output_type": "stream",
     "text": [
      "\n",
      "Loaded first 10 files:\n",
      "{'text': \"import cadquery as cq\\nw0=cq.Workplane('XY',origin=(0,0,-11))\\nr=w0.sketch().segment((12,-10),(16,-7)).arc((48,-11),(26,14)).arc((-6,7),(18,-16)).close().assemble().finalize().extrude(-13).union(w0.sketch().segment((-50,-14),(-49,-17)).segment((-43,-14)).segment((-44,-12)).close().assemble().reset().face(w0.sketch().segment((-28,-5),(-26,-8)).segment((-12,-3)).segment((-13,0)).close().assemble()).finalize().extrude(36))\"}\n",
      "{'text': \"import cadquery as cq\\nw0=cq.Workplane('YZ',origin=(-1,0,0))\\nr=w0.workplane(offset=-13/2).moveTo(24,3).cylinder(13,12).union(w0.sketch().segment((-50,-8),(-26,-19)).segment((-26,-26)).segment((30,-26)).segment((30,2)).segment((50,2)).segment((50,4)).segment((30,4)).segment((30,26)).segment((-26,26)).segment((-26,21)).segment((-35,25)).close().assemble().finalize().extrude(15))\"}\n",
      "{'text': \"import cadquery as cq\\nw0=cq.Workplane('ZX',origin=(0,15,0))\\nr=w0.sketch().segment((-49,-7),(-34,-19)).arc((38,-36),(14,33)).segment((14,34)).segment((-7,50)).close().assemble().finalize().extrude(-30)\"}\n",
      "{'text': \"import cadquery as cq\\nw0=cq.Workplane('YZ',origin=(22,0,0))\\nr=w0.sketch().segment((-50,7),(-16,-35)).segment((5,-18)).arc((49,14),(-5,18)).segment((-18,33)).close().assemble().finalize().extrude(-45)\"}\n",
      "{'text': \"import cadquery as cq\\nw0=cq.Workplane('XY',origin=(0,0,-19))\\nw1=cq.Workplane('ZX',origin=(0,-17,0))\\nr=w0.sketch().segment((-50,24),(-49,19)).segment((-49,24)).close().assemble().reset().face(w0.sketch().segment((-6,-10),(7,-10)).arc((22,-24),(37,-10)).segment((50,-10)).segment((50,-9)).segment((37,-9)).arc((22,5),(7,-9)).segment((-6,-9)).close().assemble()).finalize().extrude(56).union(w1.workplane(offset=14/2).moveTo(-28.5,1).box(17,52,14))\"}\n",
      "{'text': \"import cadquery as cq\\nw0=cq.Workplane('YZ',origin=(3,0,0))\\nw1=cq.Workplane('ZX',origin=(0,-7,0))\\nr=w0.sketch().segment((-20,-15),(21,-15)).segment((21,13)).segment((50,23)).segment((41,50)).segment((8,39)).segment((14,24)).segment((-20,24)).segment((-20,7)).arc((-40,-1),(-20,-8)).close().assemble().push([(-28.5,-0.5)]).rect(15,7,mode='s').finalize().extrude(-13).union(w0.workplane(offset=9/2).moveTo(0,4).cylinder(9,4)).union(w0.sketch().segment((0,-1),(1,-1)).arc((1,10),(0,-1)).assemble().finalize().extrude(33)).union(w1.sketch().segment((-50,-36),(-26,-36)).arc((-38,-30),(-50,-36)).assemble().finalize().extrude(-43))\"}\n",
      "{'text': \"import cadquery as cq\\nw0=cq.Workplane('XY',origin=(0,0,-23))\\nr=w0.sketch().segment((-35,-49),(-27,-49)).segment((-27,-50)).segment((-15,-50)).segment((-15,-49)).segment((-7,-49)).segment((-7,-15)).segment((-15,-15)).segment((-15,-14)).segment((-27,-14)).segment((-27,-15)).segment((-35,-15)).close().assemble().push([(-21,-32)]).circle(11,mode='s').push([(12,45)]).circle(5).push([(23,-2)]).circle(12).finalize().extrude(46)\"}\n",
      "{'text': \"import cadquery as cq\\nw0=cq.Workplane('ZX',origin=(0,19,0))\\nr=w0.workplane(offset=-39/2).moveTo(20,24).cylinder(39,26).union(w0.sketch().segment((-46,-50),(-9,-50)).segment((-9,-6)).segment((7,-6)).segment((7,44)).segment((-36,44)).segment((-36,5)).segment((-46,5)).close().assemble().finalize().extrude(-27))\"}\n",
      "{'text': \"import cadquery as cq\\nw0=cq.Workplane('XY',origin=(0,0,-11))\\nr=w0.sketch().segment((-50,-3),(-41,-6)).segment((-41,13)).close().assemble().reset().face(w0.sketch().segment((-28,41),(-21,41)).segment((-26,42)).close().assemble()).reset().face(w0.sketch().segment((22,-41),(26,-42)).segment((28,-41)).close().assemble()).reset().face(w0.sketch().segment((41,-13),(50,3)).segment((41,6)).close().assemble()).finalize().extrude(22)\"}\n",
      "{'text': \"import cadquery as cq\\nw0=cq.Workplane('YZ',origin=(11,0,0))\\nw1=cq.Workplane('YZ',origin=(-11,0,0))\\nr=w0.sketch().arc((-38,-10),(-19,-50),(6,-13)).arc((-11,50),(-38,-10)).assemble().finalize().extrude(-20).union(w1.sketch().segment((-4,-26),(3,-26)).arc((19,-30),(35,-26)).segment((42,-26)).segment((42,-19)).arc((49,-1),(42,18)).segment((42,24)).segment((35,24)).arc((19,29),(3,24)).segment((-4,24)).segment((-4,18)).arc((-10,-1),(-4,-19)).close().assemble().finalize().extrude(11))\"}\n"
     ]
    }
   ],
   "source": [
    "# Import necessary libraries\n",
    "from datasets import load_dataset\n",
    "\n",
    "# Load from local datasets directory with each file as a single entry\n",
    "dataset = load_dataset(\n",
    "    \"text\",  # We're loading text files (Python files are text)\n",
    "    data_files=\"datasets/cad-recode/train/batch_00/*.py\",  # Full path to Python files\n",
    "    split=\"train\",\n",
    "    streaming=True,\n",
    "    sample_by=\"document\"\n",
    ")\n",
    "\n",
    "\n",
    "print(\"\\nLoaded first 10 files:\")\n",
    "# Use take() for IterableDataset which is more efficient than iterating\n",
    "examples = dataset.take(10)\n",
    "for example in examples:\n",
    "    print(example)"
   ]
  },
  {
   "cell_type": "code",
   "execution_count": 35,
   "metadata": {},
   "outputs": [
    {
     "name": "stdout",
     "output_type": "stream",
     "text": [
      "400\n",
      "400\n"
     ]
    }
   ],
   "source": [
    "import modal\n",
    "\n",
    "app = modal.App(\"cad-recode-repro\")\n",
    "\n",
    "# Create an image with our requirements\n",
    "image = (\n",
    "    modal.Image.debian_slim(python_version=\"3.11\")\n",
    "    .apt_install(\n",
    "        \"git\",\n",
    "        \"libgl1\",\n",
    "        \"libglu1-mesa\",\n",
    "        \"freeglut3-dev\",\n",
    "        \"libxrender1\",\n",
    "        \"gmsh\",\n",
    "        \"python3-gmsh\",\n",
    "        \"xvfb\",\n",
    "        \"curl\"\n",
    "    )\n",
    "    .pip_install(\"uv\")\n",
    "    .run_commands(\"uv pip install --system --compile-bytecode trimesh==4.5.3 jupyterlab datasets\")\n",
    "    .run_commands(\"uv pip install --system --compile-bytecode git+https://github.com/CadQuery/cadquery.git@e99a15df3cf6a88b69101c405326305b5db8ed94\")\n",
    ")\n",
    "\n",
    "@app.function()\n",
    "def double_with_modal(x: int) -> int:\n",
    "    return x + x\n",
    "\n",
    "\n",
    "@app.function(cpu=10, image=image)\n",
    "def quadruple(x: int) -> int:\n",
    "    return double_with_modal.remote(x) + double_with_modal.remote(x)\n",
    "\n",
    "\n",
    "with app.run():\n",
    "    print(quadruple.local(100))   # running locally\n",
    "    print(quadruple.remote(100))  # run remotely"
   ]
  },
  {
   "cell_type": "code",
   "execution_count": 43,
   "metadata": {},
   "outputs": [
    {
     "name": "stderr",
     "output_type": "stream",
     "text": [
      "/Users/raymondweitekamp/Documents/GitHub/cad-recode-repro/venv/lib/python3.11/site-packages/modal/_functions.py:738: UserWarning: Function <function process_cad_files at 0x12f68a0c0> has size 1567250 bytes when packaged. This is larger than the recommended limit of 256 KiB. Try reducing the size of the closure by using parameters or mounts, not large global variables.\n",
      "  warnings.warn(\n"
     ]
    },
    {
     "name": "stdout",
     "output_type": "stream",
     "text": [
      "\n",
      "Complete Code:\n",
      "\n",
      "\n",
      "Error: /Users/raymondweitekamp/Documents/GitHub/cad-recode-repro/datasets/cad-recode/train/batch_00/0.py\n"
     ]
    }
   ],
   "source": [
    "@app.function(image=image, cpu=10)\n",
    "def process_cad_files():\n",
    "    import trimesh\n",
    "    import numpy as np\n",
    "    \n",
    "    def mesh_to_point_cloud(mesh, n_points=256):\n",
    "        vertices, faces = trimesh.sample.sample_surface(mesh, n_points)\n",
    "        point_cloud = np.concatenate((\n",
    "            np.asarray(vertices),\n",
    "            mesh.face_normals[faces]\n",
    "        ), axis=1)\n",
    "        ids = np.lexsort((point_cloud[:, 0], point_cloud[:, 1], point_cloud[:, 2]))\n",
    "        point_cloud = point_cloud[ids]\n",
    "        return point_cloud\n",
    "\n",
    "    def py_string_to_mesh(py_string):\n",
    "        exec(py_string, globals())\n",
    "        compound = globals()['r'].val()\n",
    "        vertices, faces = compound.tessellate(0.001, 0.1)\n",
    "        mesh = trimesh.Trimesh([(v.x, v.y, v.z) for v in vertices], faces)\n",
    "        mesh.apply_translation(-(mesh.bounds[0] + mesh.bounds[1]) / 2.0)\n",
    "        mesh.apply_scale(2.0 / max(mesh.extents))\n",
    "        return mesh\n",
    "\n",
    "\n",
    "    # Execute all examples in sequence and process the final result\n",
    "    results = []\n",
    "    example_texts = []\n",
    "    try:\n",
    "        # Extract just the text from the examples\n",
    "        example_texts = [ex['text'] for ex in examples]\n",
    "        print(\"example_texts\", example_texts)\n",
    "        \n",
    "        # Execute the setup code first\n",
    "        for setup_code in example_texts[:2]:\n",
    "            exec(setup_code, globals())\n",
    "        \n",
    "        # Execute the final piece that creates 'r'\n",
    "        exec(example_texts[2], globals())\n",
    "        \n",
    "        # Now process the result\n",
    "        mesh = py_string_to_mesh(example_texts[2])\n",
    "        point_cloud = mesh_to_point_cloud(mesh)\n",
    "        results.append({\n",
    "            'code': '\\n'.join(example_texts),\n",
    "            'point_cloud_shape': point_cloud.shape,\n",
    "            'point_cloud': point_cloud.tolist()  # Convert to list for JSON serialization\n",
    "        })\n",
    "    except Exception as e:\n",
    "        results.append({\n",
    "            'code': '\\n'.join(example_texts),\n",
    "            'error': str(e)\n",
    "        })\n",
    "    return results\n",
    "\n",
    "# Run the function\n",
    "with app.run():\n",
    "    results = process_cad_files.remote()\n",
    "    for r in results:\n",
    "        print(\"\\nComplete Code:\")\n",
    "        print(r['code'])\n",
    "        if 'point_cloud_shape' in r:\n",
    "            print(\"\\nPoint cloud shape:\", r['point_cloud_shape'])\n",
    "            print(\"First few points:\", r['point_cloud'][:2])  # Show first 2 points\n",
    "        else:\n",
    "            print(\"\\nError:\", r['error'])"
   ]
  },
  {
   "cell_type": "markdown",
   "metadata": {},
   "source": [
    "note: cadquery and mac silicon still don't get along unfortunately..."
   ]
  },
  {
   "cell_type": "code",
   "execution_count": null,
   "metadata": {},
   "outputs": [],
   "source": []
  },
  {
   "cell_type": "code",
   "execution_count": null,
   "metadata": {},
   "outputs": [],
   "source": [
    "%pip install git+https://github.com/CadQuery/cadquery.git@e99a15df3cf6a88b69101c405326305b5db8ed94\n",
    "%pip install trimesh "
   ]
  },
  {
   "cell_type": "code",
   "execution_count": 23,
   "metadata": {},
   "outputs": [
    {
     "name": "stdout",
     "output_type": "stream",
     "text": [
      "\n",
      "Sample examples:\n",
      "\n",
      "Original Python code:\n",
      "import cadquery as cq\n",
      "\n",
      "Error converting to point cloud: dlopen(/Users/raymondweitekamp/Documents/GitHub/cad-recode-repro/venv/lib/python3.11/site-packages/OCP/OCP.cpython-311-darwin.so, 0x0002): Library not loaded: @rpath/libvtkWrappingPythonCore3.11-9.2.dylib\n",
      "  Referenced from: <CCC3E9CA-0ECE-3AA4-8D7F-735550B5EF82> /Users/raymondweitekamp/Documents/GitHub/cad-recode-repro/venv/lib/python3.11/site-packages/OCP/OCP.cpython-311-darwin.so\n",
      "  Reason: tried: '/Users/raymondweitekamp/Documents/GitHub/cad-recode-repro/venv/lib/python3.11/site-packages/OCP/../vtkmodules/.dylibs/libvtkWrappingPythonCore3.11-9.2.dylib' (no such file), '/Users/raymondweitekamp/Documents/GitHub/cad-recode-repro/venv/lib/python3.11/site-packages/OCP/../vtkmodules/.dylibs/libvtkWrappingPythonCore3.11-9.2.dylib' (no such file), '/Users/raymondweitekamp/.pyenv/versions/3.11.7/lib/libvtkWrappingPythonCore3.11-9.2.dylib' (no such file), '/System/Volumes/Preboot/Cryptexes/OS/Users/raymondweitekamp/.pyenv/versions/3.11.7/lib/libvtkWrappingPythonCore3.11-9.2.dylib' (no such file), '/opt/homebrew/lib/libvtkWrappingPythonCore3.11-9.2.dylib' (no such file), '/System/Volumes/Preboot/Cryptexes/OS/opt/homebrew/lib/libvtkWrappingPythonCore3.11-9.2.dylib' (no such file), '/Users/raymondweitekamp/.pyenv/versions/3.11.7/lib/libvtkWrappingPythonCore3.11-9.2.dylib' (no such file), '/System/Volumes/Preboot/Cryptexes/OS/Users/raymondweitekamp/.pyenv/versions/3.11.7/lib/libvtkWrappingPythonCore3.11-9.2.dylib' (no such file), '/opt/homebrew/lib/libvtkWrappingPythonCore3.11-9.2.dylib' (no such file), '/System/Volumes/Preboot/Cryptexes/OS/opt/homebrew/lib/libvtkWrappingPythonCore3.11-9.2.dylib' (no such file), '/usr/local/lib/libvtkWrappingPythonCore3.11-9.2.dylib' (no such file), '/usr/lib/libvtkWrappingPythonCore3.11-9.2.dylib' (no such file, not in dyld cache)\n",
      "\n",
      "Original Python code:\n",
      "w0=cq.Workplane('XY',origin=(0,0,-11))\n",
      "\n",
      "Error converting to point cloud: name 'cq' is not defined\n",
      "\n",
      "Original Python code:\n",
      "r=w0.sketch().segment((12,-10),(16,-7)).arc((48,-11),(26,14)).arc((-6,7),(18,-16)).close().assemble().finalize().extrude(-13).union(w0.sketch().segment((-50,-14),(-49,-17)).segment((-43,-14)).segment((-44,-12)).close().assemble().reset().face(w0.sketch().segment((-28,-5),(-26,-8)).segment((-12,-3)).segment((-13,0)).close().assemble()).finalize().extrude(36))\n",
      "\n",
      "Error converting to point cloud: name 'w0' is not defined\n"
     ]
    }
   ],
   "source": [
    "import trimesh\n",
    "import numpy as np\n",
    "\n",
    "def mesh_to_point_cloud(mesh, n_points=256):\n",
    "    \"\"\"Convert a mesh to a point cloud with normals\"\"\"\n",
    "    vertices, faces = trimesh.sample.sample_surface(mesh, n_points)\n",
    "    point_cloud = np.concatenate((\n",
    "        np.asarray(vertices),\n",
    "        mesh.face_normals[faces]\n",
    "    ), axis=1)\n",
    "    # Sort points for consistency\n",
    "    ids = np.lexsort((point_cloud[:, 0], point_cloud[:, 1], point_cloud[:, 2]))\n",
    "    point_cloud = point_cloud[ids]\n",
    "    return point_cloud\n",
    "\n",
    "def py_string_to_mesh(py_string):\n",
    "    \"\"\"Convert CadQuery Python code to a mesh\"\"\"\n",
    "    # Execute the full, multiline Python string\n",
    "    exec(py_string, globals())\n",
    "    compound = globals()['r'].val()\n",
    "    \n",
    "    # Convert to mesh\n",
    "    vertices, faces = compound.tessellate(0.001, 0.1)\n",
    "    mesh = trimesh.Trimesh([(v.x, v.y, v.z) for v in vertices], faces)\n",
    "    \n",
    "    # Center and normalize the mesh\n",
    "    mesh.apply_translation(-(mesh.bounds[0] + mesh.bounds[1]) / 2.0)\n",
    "    mesh.apply_scale(2.0 / max(mesh.extents))\n",
    "    \n",
    "    return mesh\n",
    "\n",
    "# Load from local datasets directory\n",
    "dataset = load_dataset(\n",
    "    \"text\",  # We're loading text files\n",
    "    data_files=\"datasets/cad-recode/train/batch_00/*.py\",  # Full path to Python files\n",
    "    split=\"train\",\n",
    "    streaming=True\n",
    ")\n",
    "\n",
    "# Look at the examples and convert to point clouds\n",
    "print(\"\\nSample examples:\")\n",
    "for example in dataset.take(3):\n",
    "    print(\"\\nOriginal Python code:\")\n",
    "    print(example['text'])\n",
    "    \n",
    "    try:\n",
    "        # Convert Python code to mesh to point cloud using the multiline string as-is\n",
    "        mesh = py_string_to_mesh(example['text'])\n",
    "        point_cloud = mesh_to_point_cloud(mesh)\n",
    "        print(\"\\nPoint cloud shape:\", point_cloud.shape)\n",
    "    except Exception as e:\n",
    "        print(\"\\nError converting to point cloud:\", str(e))"
   ]
  },
  {
   "cell_type": "markdown",
   "metadata": {},
   "source": [
    "if you see something like this, you're on apple silicon and not going to have fun. \n",
    "\n",
    "```\n",
    "Error converting to point cloud: dlopen(/path/to/venv/lib/python3.11/site-packages/OCP/OCP.cpython-311-darwin.so, 0x0002): Library not loaded: @rpath/libvtkWrappingPythonCore3.11-9.2.dylib\n",
    "  Referenced from: <CCC3E9CA-0ECE-3AA4-8D7F-735550B5EF82> /path/to/venv/lib/python3.11/site-packages/OCP/OCP.cpython-311-darwin.so\n",
    "  Reason: tried: '/path/to/venv/lib/python3.11/site-packages/OCP/../vtkmodules/.dylibs/libvtkWrappingPythonCore3.11-9.2.dylib' (no such file), '/path/to/venv/lib/python3.11/site-packages/OCP/../vtkmodules/.dylibs/libvtkWrappingPythonCore3.11-9.2.dylib' (no such file), '/path/to/python/3.11.7/lib/libvtkWrappingPythonCore3.11-9.2.dylib' (no such file), '/System/Volumes/Preboot/Cryptexes/OS/path/to/python/3.11.7/lib/libvtkWrappingPythonCore3.11-9.2.dylib' (no such file), '/opt/homebrew/lib/libvtkWrappingPythonCore3.11-9.2.dylib' (no such file), '/System/Volumes/Preboot/Cryptexes/OS/opt/homebrew/lib/libvtkWrappingPythonCore3.11-9.2.dylib' (no such file), '/usr/local/lib/libvtkWrappingPythonCore3.11-9.2.dylib' (no such file), '/usr/lib/libvtkWrappingPythonCore3.11-9.2.dylib' (no such file, not in dyld cache\n",
    "```"
   ]
  },
  {
   "cell_type": "code",
   "execution_count": null,
   "metadata": {},
   "outputs": [],
   "source": [
    "from datasets import Dataset, DatasetDict\n",
    "import json\n",
    "\n",
    "\n",
    "\n",
    "# Create a Hugging Face Dataset from the list of dictionaries\n",
    "dataset = Dataset.from_list(data)\n",
    "\n",
    "# Wrap your dataset in a DatasetDict (useful if you plan on having multiple splits)\n",
    "dataset_dict = DatasetDict({\n",
    "    \"train\": dataset,\n",
    "})\n",
    "\n",
    "# Optionally, save it locally (debug or offline version)\n",
    "dataset_dict.save_to_disk(\"cadquery_dataset\")\n",
    "\n",
    "# Push the dataset to the Hugging Face Hub (replace \"your_username\" with your actual HF username)\n",
    "dataset_dict.push_to_hub(\"rawwerks/test_upload_dataset\", private=False)"
   ]
  }
 ],
 "metadata": {
  "kernelspec": {
   "display_name": "ReCode",
   "language": "python",
   "name": "recode"
  },
  "language_info": {
   "codemirror_mode": {
    "name": "ipython",
    "version": 3
   },
   "file_extension": ".py",
   "mimetype": "text/x-python",
   "name": "python",
   "nbconvert_exporter": "python",
   "pygments_lexer": "ipython3",
   "version": "3.11.7"
  }
 },
 "nbformat": 4,
 "nbformat_minor": 2
}
