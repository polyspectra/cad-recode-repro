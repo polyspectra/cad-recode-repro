{
 "cells": [
  {
   "cell_type": "code",
   "execution_count": null,
   "metadata": {},
   "outputs": [],
   "source": [
    "%pip install datasets"
   ]
  },
  {
   "cell_type": "code",
   "execution_count": 1,
   "metadata": {},
   "outputs": [
    {
     "name": "stderr",
     "output_type": "stream",
     "text": [
      "/Users/raw/Documents/GitHub/cad-recode-repro/venv/lib/python3.11/site-packages/tqdm/auto.py:21: TqdmWarning: IProgress not found. Please update jupyter and ipywidgets. See https://ipywidgets.readthedocs.io/en/stable/user_install.html\n",
      "  from .autonotebook import tqdm as notebook_tqdm\n"
     ]
    }
   ],
   "source": [
    "# Import necessary libraries\n",
    "from datasets import load_dataset\n",
    "\n",
    "# Load the dataset from Hugging Face\n",
    "dataset = load_dataset(\"filapro/cad-recode\")\n",
    "\n",
    "# Display basic information about the dataset\n",
    "print(\"Dataset structure:\", dataset)\n",
    "\n",
    "# Look at the first few examples\n",
    "print(\"\\nFirst few examples:\")\n",
    "print(dataset['train'][:3])\n",
    "\n",
    "# Get dataset statistics\n",
    "print(\"\\nDataset size:\")\n",
    "for split in dataset.keys():\n",
    "    print(f\"{split}: {len(dataset[split])} examples\")\n",
    "\n",
    "# Display column names\n",
    "print(\"\\nAvailable columns:\", dataset['train'].column_names)"
   ]
  }
 ],
 "metadata": {
  "kernelspec": {
   "display_name": "ReCode",
   "language": "python",
   "name": "recode"
  },
  "language_info": {
   "codemirror_mode": {
    "name": "ipython",
    "version": 3
   },
   "file_extension": ".py",
   "mimetype": "text/x-python",
   "name": "python",
   "nbconvert_exporter": "python",
   "pygments_lexer": "ipython3",
   "version": "3.11.5"
  }
 },
 "nbformat": 4,
 "nbformat_minor": 2
}
