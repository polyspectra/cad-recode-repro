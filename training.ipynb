{
 "cells": [
  {
   "cell_type": "code",
   "execution_count": null,
   "metadata": {},
   "outputs": [],
   "source": [
    "%pip install datasets huggingface-cli"
   ]
  },
  {
   "cell_type": "markdown",
   "metadata": {},
   "source": [
    "This dataset is big and not properly formatted for HF. I found it more reliable to first download the dataset with the HF CLI\n",
    "   ```bash\n",
    "   # Create datasets directory (it's gitignored)\n",
    "   mkdir datasets\n",
    "\n",
    "   # Download the dataset\n",
    "   huggingface-cli download --repo-type dataset filapro/cad-recode --local-dir datasets/cad-recode\n",
    "   ```"
   ]
  },
  {
   "cell_type": "code",
   "execution_count": 1,
   "metadata": {},
   "outputs": [
    {
     "name": "stderr",
     "output_type": "stream",
     "text": [
      "/Users/raymondweitekamp/Documents/GitHub/cad-recode-repro/venv/lib/python3.11/site-packages/tqdm/auto.py:21: TqdmWarning: IProgress not found. Please update jupyter and ipywidgets. See https://ipywidgets.readthedocs.io/en/stable/user_install.html\n",
      "  from .autonotebook import tqdm as notebook_tqdm\n"
     ]
    },
    {
     "name": "stdout",
     "output_type": "stream",
     "text": [
      "\n",
      "Sample examples:\n",
      "{'text': 'import cadquery as cq'}\n",
      "{'text': \"w0=cq.Workplane('XY',origin=(0,0,-11))\"}\n",
      "{'text': 'r=w0.sketch().segment((12,-10),(16,-7)).arc((48,-11),(26,14)).arc((-6,7),(18,-16)).close().assemble().finalize().extrude(-13).union(w0.sketch().segment((-50,-14),(-49,-17)).segment((-43,-14)).segment((-44,-12)).close().assemble().reset().face(w0.sketch().segment((-28,-5),(-26,-8)).segment((-12,-3)).segment((-13,0)).close().assemble()).finalize().extrude(36))'}\n"
     ]
    }
   ],
   "source": [
    "# Import necessary libraries\n",
    "from datasets import load_dataset\n",
    "\n",
    "# Load from local datasets directory\n",
    "dataset = load_dataset(\n",
    "    \"text\",  # We're loading text files (Python files are text)\n",
    "    data_files=\"datasets/cad-recode/train/batch_00/*.py\",  # Full path to Python files\n",
    "    split=\"train\",\n",
    "    streaming=True\n",
    ")\n",
    "\n",
    "# Look at the examples\n",
    "print(\"\\nSample examples:\")\n",
    "for example in dataset.take(3):  # Show first 3 examples\n",
    "    print(example)"
   ]
  },
  {
   "cell_type": "markdown",
   "metadata": {},
   "source": [
    "note: cadquery and mac silicon still don't get along unfortunately..."
   ]
  },
  {
   "cell_type": "code",
   "execution_count": null,
   "metadata": {},
   "outputs": [],
   "source": [
    "%pip install git+https://github.com/CadQuery/cadquery.git@e99a15df3cf6a88b69101c405326305b5db8ed94\n",
    "%pip install trimesh "
   ]
  },
  {
   "cell_type": "code",
   "execution_count": null,
   "metadata": {},
   "outputs": [],
   "source": [
    "import trimesh\n",
    "import numpy as np\n",
    "\n",
    "def mesh_to_point_cloud(mesh, n_points=256):\n",
    "    \"\"\"Convert a mesh to a point cloud with normals\"\"\"\n",
    "    vertices, faces = trimesh.sample.sample_surface(mesh, n_points)\n",
    "    point_cloud = np.concatenate((\n",
    "        np.asarray(vertices),\n",
    "        mesh.face_normals[faces]\n",
    "    ), axis=1)\n",
    "    # Sort points for consistency\n",
    "    ids = np.lexsort((point_cloud[:, 0], point_cloud[:, 1], point_cloud[:, 2]))\n",
    "    point_cloud = point_cloud[ids]\n",
    "    return point_cloud\n",
    "\n",
    "def py_string_to_mesh(py_string):\n",
    "    \"\"\"Convert CadQuery Python code to a mesh\"\"\"\n",
    "    # Execute the Python string\n",
    "    exec(py_string, globals())\n",
    "    compound = globals()['r'].val()\n",
    "    \n",
    "    # Convert to mesh\n",
    "    vertices, faces = compound.tessellate(0.001, 0.1)\n",
    "    mesh = trimesh.Trimesh([(v.x, v.y, v.z) for v in vertices], faces)\n",
    "    \n",
    "    # Center and normalize the mesh\n",
    "    mesh.apply_translation(-(mesh.bounds[0] + mesh.bounds[1]) / 2.0)\n",
    "    mesh.apply_scale(2.0 / max(mesh.extents))\n",
    "    \n",
    "    return mesh\n",
    "\n",
    "# Load from local datasets directory\n",
    "dataset = load_dataset(\n",
    "    \"text\",  # We're loading text files\n",
    "    data_files=\"datasets/cad-recode/train/batch_00/*.py\",  # Full path to Python files\n",
    "    split=\"train\",\n",
    "    streaming=True\n",
    ")\n",
    "\n",
    "# Look at the examples and convert to point clouds\n",
    "print(\"\\nSample examples:\")\n",
    "for example in dataset.take(3):\n",
    "    print(\"\\nOriginal Python code:\")\n",
    "    print(example['text'])\n",
    "    \n",
    "    try:\n",
    "        # Convert Python code to mesh to point cloud\n",
    "        mesh = py_string_to_mesh(example['text'])\n",
    "        point_cloud = mesh_to_point_cloud(mesh)\n",
    "        print(\"\\nPoint cloud shape:\", point_cloud.shape)\n",
    "    except Exception as e:\n",
    "        print(\"\\nError converting to point cloud:\", str(e))"
   ]
  },
  {
   "cell_type": "markdown",
   "metadata": {},
   "source": [
    "if you see something like this, you're on apple silicon and not going to have fun. \n",
    "\n",
    "```\n",
    "Error converting to point cloud: dlopen(/path/to/venv/lib/python3.11/site-packages/OCP/OCP.cpython-311-darwin.so, 0x0002): Library not loaded: @rpath/libvtkWrappingPythonCore3.11-9.2.dylib\n",
    "  Referenced from: <CCC3E9CA-0ECE-3AA4-8D7F-735550B5EF82> /path/to/venv/lib/python3.11/site-packages/OCP/OCP.cpython-311-darwin.so\n",
    "  Reason: tried: '/path/to/venv/lib/python3.11/site-packages/OCP/../vtkmodules/.dylibs/libvtkWrappingPythonCore3.11-9.2.dylib' (no such file), '/path/to/venv/lib/python3.11/site-packages/OCP/../vtkmodules/.dylibs/libvtkWrappingPythonCore3.11-9.2.dylib' (no such file), '/path/to/python/3.11.7/lib/libvtkWrappingPythonCore3.11-9.2.dylib' (no such file), '/System/Volumes/Preboot/Cryptexes/OS/path/to/python/3.11.7/lib/libvtkWrappingPythonCore3.11-9.2.dylib' (no such file), '/opt/homebrew/lib/libvtkWrappingPythonCore3.11-9.2.dylib' (no such file), '/System/Volumes/Preboot/Cryptexes/OS/opt/homebrew/lib/libvtkWrappingPythonCore3.11-9.2.dylib' (no such file), '/usr/local/lib/libvtkWrappingPythonCore3.11-9.2.dylib' (no such file), '/usr/lib/libvtkWrappingPythonCore3.11-9.2.dylib' (no such file, not in dyld cache\n",
    "```"
   ]
  }
 ],
 "metadata": {
  "kernelspec": {
   "display_name": "ReCode",
   "language": "python",
   "name": "recode"
  },
  "language_info": {
   "codemirror_mode": {
    "name": "ipython",
    "version": 3
   },
   "file_extension": ".py",
   "mimetype": "text/x-python",
   "name": "python",
   "nbconvert_exporter": "python",
   "pygments_lexer": "ipython3",
   "version": "3.11.7"
  }
 },
 "nbformat": 4,
 "nbformat_minor": 2
}
