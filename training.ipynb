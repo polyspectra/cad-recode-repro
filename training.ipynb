{
 "cells": [
  {
   "cell_type": "code",
   "execution_count": null,
   "metadata": {},
   "outputs": [],
   "source": [
    "%pip install datasets huggingface-cli"
   ]
  },
  {
   "cell_type": "markdown",
   "metadata": {},
   "source": [
    "This dataset is big and not properly formatted for HF. I found it more reliable to first download the dataset with the HF CLI\n",
    "   ```bash\n",
    "   # Create datasets directory (it's gitignored)\n",
    "   mkdir datasets\n",
    "\n",
    "   # Download the dataset\n",
    "   huggingface-cli download --repo-type dataset filapro/cad-recode --local-dir datasets/cad-recode\n",
    "   ```"
   ]
  },
  {
   "cell_type": "code",
   "execution_count": 3,
   "metadata": {},
   "outputs": [
    {
     "name": "stdout",
     "output_type": "stream",
     "text": [
      "\n",
      "Sample examples:\n",
      "{'text': 'import cadquery as cq'}\n",
      "{'text': \"w0=cq.Workplane('XY',origin=(0,0,-11))\"}\n",
      "{'text': 'r=w0.sketch().segment((12,-10),(16,-7)).arc((48,-11),(26,14)).arc((-6,7),(18,-16)).close().assemble().finalize().extrude(-13).union(w0.sketch().segment((-50,-14),(-49,-17)).segment((-43,-14)).segment((-44,-12)).close().assemble().reset().face(w0.sketch().segment((-28,-5),(-26,-8)).segment((-12,-3)).segment((-13,0)).close().assemble()).finalize().extrude(36))'}\n"
     ]
    }
   ],
   "source": [
    "# Import necessary libraries\n",
    "from datasets import load_dataset\n",
    "\n",
    "# Load from local datasets directory\n",
    "dataset = load_dataset(\n",
    "    \"text\",  # We're loading text files (Python files are text)\n",
    "    data_files=\"datasets/cad-recode/train/batch_00/*.py\",  # Full path to Python files\n",
    "    split=\"train\",\n",
    "    streaming=True\n",
    ")\n",
    "\n",
    "# Look at the examples\n",
    "print(\"\\nSample examples:\")\n",
    "for example in dataset.take(3):  # Show first 3 examples\n",
    "    print(example)"
   ]
  }
 ],
 "metadata": {
  "kernelspec": {
   "display_name": "ReCode",
   "language": "python",
   "name": "recode"
  },
  "language_info": {
   "codemirror_mode": {
    "name": "ipython",
    "version": 3
   },
   "file_extension": ".py",
   "mimetype": "text/x-python",
   "name": "python",
   "nbconvert_exporter": "python",
   "pygments_lexer": "ipython3",
   "version": "3.11.7"
  }
 },
 "nbformat": 4,
 "nbformat_minor": 2
}
